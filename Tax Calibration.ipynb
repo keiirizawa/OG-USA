{
 "cells": [
  {
   "cell_type": "markdown",
   "metadata": {},
   "source": [
    "# Tax Calibration"
   ]
  },
  {
   "cell_type": "code",
   "execution_count": 12,
   "metadata": {},
   "outputs": [],
   "source": [
    "# Import packages and load the data\n",
    "import numpy as np\n",
    "import numpy.linalg as lin\n",
    "import scipy.stats as sts\n",
    "import scipy.integrate as intgr\n",
    "import scipy.optimize as opt\n",
    "import matplotlib\n",
    "import matplotlib.pyplot as plt\n",
    "import pandas as pd\n",
    "from mpl_toolkits.mplot3d import Axes3D\n",
    "# This next command is specifically for Jupyter Notebook\n",
    "%matplotlib notebook\n",
    "\n",
    "import requests\n",
    "from IPython.display import Image"
   ]
  },
  {
   "cell_type": "code",
   "execution_count": null,
   "metadata": {},
   "outputs": [],
   "source": []
  },
  {
   "cell_type": "code",
   "execution_count": null,
   "metadata": {},
   "outputs": [],
   "source": []
  },
  {
   "cell_type": "code",
   "execution_count": 93,
   "metadata": {},
   "outputs": [
    {
     "data": {
      "image/png": "[encoded data removed]",
      "text/plain": [
       "<Figure size 432x288 with 1 Axes>"
      ]
     },
     "metadata": {},
     "output_type": "display_data"
    }
   ],
   "source": [
    "### Effective Tax Function\n",
    "#Source: https://www.jetro.go.jp/en/invest/setting_up/section3/page7.html\n",
    "def calc_income_tax(income_x, income_y, year):\n",
    "    total_income = income_x + income_y\n",
    "    deducted_x = income_x - find_tax_deduction(income_x, year)\n",
    "    taxable_income = deducted_x + income_y\n",
    "    tax_cost = find_tax_cost(taxable_income)\n",
    "    effective_tax_rate = tax_cost / total_income\n",
    "    if 2013 <= year <= 2037:\n",
    "        #Withholding Tax\n",
    "        effective_tax_rate *= 1.021\n",
    "    return max(effective_tax_rate, -0.15)\n",
    "    \n",
    "\n",
    "def find_tax_cost(income):\n",
    "    if income <= 1950000:\n",
    "        return income * 0.05\n",
    "    elif 1950000 < income <= 3300000:\n",
    "        return (income - 1950000) * 0.1 + find_tax_cost(1950000)\n",
    "    elif 3300000 < income <= 6950000:\n",
    "        return (income - 3300000) * 0.2 + find_tax_cost(3300000)\n",
    "    elif 6950000 < income <= 9000000:\n",
    "        return (income - 6950000) * 0.23 + find_tax_cost(6950000)\n",
    "    elif 9000000 < income <= 18000000:\n",
    "        return (income - 9000000) * 0.33 + find_tax_cost(9000000)\n",
    "    elif 18000000 < income <= 40000000:\n",
    "        return (income - 18000000) * 0.33 + find_tax_cost(18000000)\n",
    "    elif 40000000 < income:\n",
    "        return (income - 40000000) * 0.33 + find_tax_cost(40000000)\n",
    "    \n",
    "def find_tax_deduction(income, year):\n",
    "    if year < 2020:\n",
    "        if income <= 1625000:\n",
    "            return 650000\n",
    "        elif 1625000 < income <= 1800000:\n",
    "            return income * 0.4\n",
    "        elif 1800000 < income <= 3600000:\n",
    "            return income * 0.3 + 180000\n",
    "        elif 3600000 < income <= 6600000:\n",
    "            return income * 0.2 + 540000\n",
    "        elif 6600000 < income <= 10000000:\n",
    "            return income * 0.1 + 1200000\n",
    "        elif 10000000 < income:\n",
    "            return 2200000\n",
    "    else:\n",
    "        if income <= 1625000:\n",
    "            return 550000\n",
    "        elif 1625000 < income <= 1800000:\n",
    "            return income * 0.4 - 100000\n",
    "        elif 1800000 < income <= 3600000:\n",
    "            return income * 0.3 + 80000\n",
    "        elif 3600000 < income <= 6600000:\n",
    "            return income * 0.2 + 440000\n",
    "        elif 6600000 < income <= 10000000:\n",
    "            return income * 0.1 + 1100000\n",
    "        elif 10000000 < income:\n",
    "            return 1950000\n",
    "#%%\n",
    "calc_income_tax(5000000, 0, 2015)\n",
    "#%%\n",
    "import numpy as np\n",
    "import pandas as pd\n",
    "import matplotlib.pyplot as plt\n",
    "incomes = np.linspace(1, 40000000, 10)\n",
    "vals = pd.Series(incomes).apply(calc_income_tax, args=[0, 2015])\n",
    "plt.plot(incomes, vals)\n",
    "plt.xlabel(\"Income\")\n",
    "plt.ylabel(\"Effect tax rate\")\n",
    "plt.title(\"ETR Over Income\")\n",
    "plt.show()"
   ]
  },
  {
   "cell_type": "code",
   "execution_count": null,
   "metadata": {},
   "outputs": [],
   "source": []
  },
  {
   "cell_type": "code",
   "execution_count": null,
   "metadata": {},
   "outputs": [],
   "source": []
  },
  {
   "cell_type": "code",
   "execution_count": 66,
   "metadata": {},
   "outputs": [],
   "source": [
    "def tax_func(I, phi0, phi1, phi2):\n",
    "    # URL: https://www.jstor.org/stable/pdf/41789070.pdf\n",
    "    #txrates = ((phi0 * (I - ((I ** -phi1) + phi2) ** (-1 / phi1))) / I)\n",
    "    txrates = phi0 - phi0 * (phi1 * I ** phi2 + 1)**(-1 / phi2)\n",
    "    return txrates"
   ]
  },
  {
   "cell_type": "code",
   "execution_count": 74,
   "metadata": {},
   "outputs": [],
   "source": [
    "def model_moments(I_array, phi0, phi1, phi2):\n",
    "    \n",
    "    params = (phi0, phi1, phi2)\n",
    "    \n",
    "    mms = []\n",
    "    for i in I_array:\n",
    "        mm1.append(tax_func(i, phi))\n",
    "    \n",
    "    # mm1 (- 3.3 million)\n",
    "    mm1 = intgr.quad(lambda x: tax_func(x, phi0, phi1, phi2), 0, 3.3)[0] / 3.3\n",
    "    #mm1 = tax_func(2.65, phi0, phi1, phi2)\n",
    "    \n",
    "    # mm2 (3.3 - 9 million)\n",
    "    mm2 = intgr.quad(lambda x: tax_func(x, phi0, phi1, phi2), 3.3, 9)[0] / (9 - 3.3)\n",
    "    #mm2 = tax_func(6.15, phi0, phi1, phi2)\n",
    "    \n",
    "    # mm3 (9 - 18 million)\n",
    "    mm3 = intgr.quad(lambda x: tax_func(x, phi0, phi1, phi2), 9, 18)[0] / (18 - 9)\n",
    "    #mm3 = tax_func(13.5, phi0, phi1, phi2)\n",
    "    \n",
    "    # mm4 (18 million)\n",
    "    #mm4 = 1 - integrate.quad(lambda x: tax_func(params, x), 0, 18)[0] \n",
    "    mm4 = tax_func(18, phi0, phi1, phi2)\n",
    "    \n",
    "    return np.array([mm1, mm2, mm3, mm4])"
   ]
  },
  {
   "cell_type": "code",
   "execution_count": 75,
   "metadata": {},
   "outputs": [],
   "source": [
    "def err_vec(I_18, phi0, phi1, phi2, simple):\n",
    "    \n",
    "    data_mms = np.array([0.1, 0.2, 0.3, 0.37])\n",
    "    model_mms = model_moments(I_18, phi0, phi1, phi2)\n",
    "    \n",
    "    if simple:\n",
    "        err_vec = model_mms - data_mms\n",
    "    else:\n",
    "        err_vec = (model_mms - data_mms) / data_mms\n",
    "    \n",
    "    return err_vec"
   ]
  },
  {
   "cell_type": "code",
   "execution_count": 76,
   "metadata": {},
   "outputs": [],
   "source": [
    "def criterion(params, *args):\n",
    "    \n",
    "    phi0, phi1, phi2 = params\n",
    "    I_18, W = args\n",
    "    \n",
    "    err = err_vec(I_18, phi0, phi1, phi2, simple = False)\n",
    "    crit_val = err.T @ W @ err\n",
    "    return crit_val"
   ]
  },
  {
   "cell_type": "code",
   "execution_count": 77,
   "metadata": {},
   "outputs": [
    {
     "name": "stdout",
     "output_type": "stream",
     "text": [
      "      fun: 0.0022507817570704045\n",
      " hess_inv: <3x3 LbfgsInvHessProduct with dtype=float64>\n",
      "      jac: array([-2.06280305e-05, -1.33077574e+00, -1.47254834e-03])\n",
      "  message: b'CONVERGENCE: REL_REDUCTION_OF_F_<=_FACTR*EPSMCH'\n",
      "     nfev: 1872\n",
      "      nit: 329\n",
      "   status: 0\n",
      "  success: True\n",
      "        x: array([5.40072134e+01, 7.73004840e-04, 5.15255017e-01])\n"
     ]
    }
   ],
   "source": [
    "# Initial guess of parameters\n",
    "phi0 = 0.479\n",
    "phi1 = 0.022\n",
    "phi2 = 0.817\n",
    "params_init = np.array([phi0, phi1, phi2])\n",
    "\n",
    "# Weighting matrix \n",
    "W_hat = np.eye(4)\n",
    "\n",
    "# Arguments\n",
    "gmm_args = (18, W_hat)\n",
    "\n",
    "# Optimization\n",
    "results_GMM = opt.minimize(criterion, params_init, args = (gmm_args),\n",
    "                       method = 'L-BFGS-B')\n",
    "\n",
    "print(results_GMM)\n",
    "phi0_GMM, phi1_GMM, phi3_GMM = results_GMM.x"
   ]
  },
  {
   "cell_type": "code",
   "execution_count": 86,
   "metadata": {},
   "outputs": [
    {
     "data": {
      "text/plain": [
       "<matplotlib.legend.Legend at 0x1a29711828>"
      ]
     },
     "execution_count": 86,
     "metadata": {},
     "output_type": "execute_result"
    },
    {
     "data": {
      "image/png": "[encoded data removed]",
      "text/plain": [
       "<Figure size 432x288 with 1 Axes>"
      ]
     },
     "metadata": {},
     "output_type": "display_data"
    }
   ],
   "source": [
    "import matplotlib.pyplot as plt \n",
    "I = np.linspace(1,20,40)\n",
    "tax_rate = tax_func(I, phi0_GMM, phi1_GMM, phi3_GMM)\n",
    "plt.xlabel('Income (millions yen)')\n",
    "plt.ylim(0, 1)\n",
    "plt.ylabel('Tax Rate')\n",
    "plt.title('Incomve Vs. Tax Rate (GS)')\n",
    "plt.plot(I, tax_rate, color = 'r', label = r'Estimated Tax Rates')\n",
    "plt.legend(loc='upper right')\n",
    "\n",
    "# data from: http://receita.economia.gov.br/dados/receitadata/estudos-e-tributarios-e-aduaneiros/trabalhos-academicos\n",
    "# /12-2005-wasilewski-economic-analysis-ofthe-japanese-individual-income-tax-completo\n",
    "# Table 5\n",
    "data = np.array([\n",
    "    [2.65, 0.1],\n",
    "    [6.15, 0.2],\n",
    "    [13.5, 0.3],\n",
    "    [18, 0.37],\n",
    "])\n",
    "x, y = data.T\n",
    "plt.scatter(x,y, label = r'Data')\n",
    "plt.legend(loc='upper right')"
   ]
  },
  {
   "cell_type": "code",
   "execution_count": null,
   "metadata": {},
   "outputs": [],
   "source": []
  },
  {
   "cell_type": "code",
   "execution_count": null,
   "metadata": {},
   "outputs": [],
   "source": []
  },
  {
   "cell_type": "code",
   "execution_count": null,
   "metadata": {},
   "outputs": [],
   "source": []
  },
  {
   "cell_type": "code",
   "execution_count": 90,
   "metadata": {},
   "outputs": [],
   "source": [
    "def chi_n_func(s, a0, a1, a2, a3, a4):\n",
    "    chi_n = a0 + a1*s + a2*s**2 + a3*s**3 + a4 * s**4\n",
    "    return chi_n"
   ]
  },
  {
   "cell_type": "code",
   "execution_count": 91,
   "metadata": {},
   "outputs": [
    {
     "data": {
      "text/plain": [
       "array([ 15, 129, 547])"
      ]
     },
     "execution_count": 91,
     "metadata": {},
     "output_type": "execute_result"
    }
   ],
   "source": [
    "s = np.array([1,2,3])\n",
    "chi_n_func(s, 1,2,3,4, 5)"
   ]
  },
  {
   "cell_type": "code",
   "execution_count": null,
   "metadata": {},
   "outputs": [],
   "source": []
  }
 ],
 "metadata": {
  "kernelspec": {
   "display_name": "Python 3",
   "language": "python",
   "name": "python3"
  },
  "language_info": {
   "codemirror_mode": {
    "name": "ipython",
    "version": 3
   },
   "file_extension": ".py",
   "mimetype": "text/x-python",
   "name": "python",
   "nbconvert_exporter": "python",
   "pygments_lexer": "ipython3",
   "version": "3.6.5"
  }
 },
 "nbformat": 4,
 "nbformat_minor": 2
}
