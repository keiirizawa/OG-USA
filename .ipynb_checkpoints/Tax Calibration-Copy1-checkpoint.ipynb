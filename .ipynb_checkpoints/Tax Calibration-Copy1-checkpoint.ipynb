{
 "cells": [
  {
   "cell_type": "markdown",
   "metadata": {},
   "source": [
    "# Tax Calibration"
   ]
  },
  {
   "cell_type": "code",
   "execution_count": 82,
   "metadata": {},
   "outputs": [],
   "source": [
    "# Import packages and load the data\n",
    "import numpy as np\n",
    "import numpy.linalg as lin\n",
    "import scipy.stats as sts\n",
    "import scipy.integrate as intgr\n",
    "import scipy.optimize as opt\n",
    "import matplotlib\n",
    "import matplotlib.pyplot as plt\n",
    "import pandas as pd\n",
    "from mpl_toolkits.mplot3d import Axes3D\n",
    "# This next command is specifically for Jupyter Notebook\n",
    "%matplotlib notebook\n",
    "\n",
    "import requests\n",
    "from IPython.display import Image"
   ]
  },
  {
   "cell_type": "code",
   "execution_count": null,
   "metadata": {},
   "outputs": [],
   "source": []
  },
  {
   "cell_type": "code",
   "execution_count": null,
   "metadata": {},
   "outputs": [],
   "source": []
  },
  {
   "cell_type": "code",
   "execution_count": 160,
   "metadata": {},
   "outputs": [
    {
     "data": {
      "image/png": "[encoded data removed]",
      "text/plain": [
       "<Figure size 432x288 with 1 Axes>"
      ]
     },
     "metadata": {},
     "output_type": "display_data"
    }
   ],
   "source": [
    "### Effective Tax Function\n",
    "#Source: https://www.jetro.go.jp/en/invest/setting_up/section3/page7.html\n",
    "def calc_income_tax(income_x, income_y, year):\n",
    "    total_income = income_x + income_y\n",
    "    deducted_x = income_x - find_tax_deduction(income_x, year)\n",
    "    taxable_income = deducted_x + income_y\n",
    "    tax_cost = find_tax_cost(taxable_income)\n",
    "    effective_tax_rate = tax_cost / total_income\n",
    "    if 2013 <= year <= 2037:\n",
    "        #Withholding Tax\n",
    "        effective_tax_rate *= 1.021\n",
    "    return max(effective_tax_rate, -0.15)\n",
    "    \n",
    "\n",
    "def find_tax_cost(income):\n",
    "    if income <= 1950:\n",
    "        return income * 0.05\n",
    "    elif 1950 < income <= 3300:\n",
    "        return (income - 1950) * 0.1 + find_tax_cost(1950)\n",
    "    elif 3300 < income <= 6950:\n",
    "        return (income - 3300) * 0.2 + find_tax_cost(3300)\n",
    "    elif 6950 < income <= 9000:\n",
    "        return (income - 6950) * 0.23 + find_tax_cost(6950)\n",
    "    elif 9000 < income <= 18000:\n",
    "        return (income - 9000) * 0.33 + find_tax_cost(9000)\n",
    "    elif 18000 < income <= 40000:\n",
    "        return (income - 18000) * 0.33 + find_tax_cost(18000)\n",
    "    elif 40000 < income:\n",
    "        return (income - 40000) * 0.33 + find_tax_cost(40000)\n",
    "    \n",
    "def find_tax_deduction(income, year):\n",
    "    if year < 2020:\n",
    "        if income <= 1625:\n",
    "            return 650000\n",
    "        elif 1625 < income <= 1800:\n",
    "            return income * 0.4\n",
    "        elif 1800 < income <= 3600:\n",
    "            return income * 0.3 + 180\n",
    "        elif 3600 < income <= 6600:\n",
    "            return income * 0.2 + 540\n",
    "        elif 6600 < income <= 10000:\n",
    "            return income * 0.1 + 1200\n",
    "        elif 10000 < income:\n",
    "            return 2200\n",
    "    else:\n",
    "        if income <= 1625:\n",
    "            return 550\n",
    "        elif 1625 < income <= 1800:\n",
    "            return income * 0.4 - 100\n",
    "        elif 1800 < income <= 3600:\n",
    "            return income * 0.3 + 80\n",
    "        elif 3600 < income <= 6600:\n",
    "            return income * 0.2 + 440\n",
    "        elif 6600 < income <= 10000:\n",
    "            return income * 0.1 + 1100\n",
    "        elif 10000 < income:\n",
    "            return 1950\n",
    "\n",
    "calc_income_tax(5000, 0, 2015)\n",
    "#%%\n",
    "import numpy as np\n",
    "import pandas as pd\n",
    "import matplotlib.pyplot as plt\n",
    "incomes = np.linspace(1, 40000, 10)\n",
    "vals = pd.Series(incomes).apply(calc_income_tax, args=[0, 2015])\n",
    "plt.plot(incomes, vals)\n",
    "plt.xlabel(\"Income\")\n",
    "plt.ylabel(\"Effect tax rate\")\n",
    "plt.title(\"ETR Over Income\")\n",
    "plt.show()\n",
    "        "
   ]
  },
  {
   "cell_type": "code",
   "execution_count": 131,
   "metadata": {},
   "outputs": [],
   "source": [
    "def tax_func(I, phi0, phi1, phi2):\n",
    "    # URL: https://www.jstor.org/stable/pdf/41789070.pdf\n",
    "    #txrates = ((phi0 * (I - ((I ** -phi1) + phi2) ** (-1 / phi1))) / I)\n",
    "    txrates = phi0 - phi0 * (phi1 * I ** phi2 + 1)**(-1 / phi2)\n",
    "    return txrates"
   ]
  },
  {
   "cell_type": "code",
   "execution_count": 156,
   "metadata": {},
   "outputs": [],
   "source": [
    "def model_moments(I_array, phi0, phi1, phi2):\n",
    "    \n",
    "    return tax_func(I_array, phi0, phi1, phi2)"
   ]
  },
  {
   "cell_type": "code",
   "execution_count": 157,
   "metadata": {},
   "outputs": [],
   "source": [
    "def data_moments(I_array):\n",
    "    dms = []\n",
    "    for i in I_array:\n",
    "        dms.append(calc_income_tax(i, 0, 2018))\n",
    "    return np.array(dms)"
   ]
  },
  {
   "cell_type": "code",
   "execution_count": 158,
   "metadata": {},
   "outputs": [],
   "source": [
    "def err_vec(I_array, phi0, phi1, phi2, simple):\n",
    "    \n",
    "    data_mms = data_moments(I_array)\n",
    "    model_mms = model_moments(I_array, phi0, phi1, phi2)\n",
    "    \n",
    "    if simple:\n",
    "        err_vec = model_mms - data_mms\n",
    "    else:\n",
    "        err_vec = (model_mms - data_mms) / data_mms\n",
    "    \n",
    "    return err_vec"
   ]
  },
  {
   "cell_type": "code",
   "execution_count": 163,
   "metadata": {},
   "outputs": [
    {
     "data": {
      "text/plain": [
       "array([ 1.        ,  1.48717949,  1.97435897,  2.46153846,  2.94871795,\n",
       "        3.43589744,  3.92307692,  4.41025641,  4.8974359 ,  5.38461538,\n",
       "        5.87179487,  6.35897436,  6.84615385,  7.33333333,  7.82051282,\n",
       "        8.30769231,  8.79487179,  9.28205128,  9.76923077, 10.25641026,\n",
       "       10.74358974, 11.23076923, 11.71794872, 12.20512821, 12.69230769,\n",
       "       13.17948718, 13.66666667, 14.15384615, 14.64102564, 15.12820513,\n",
       "       15.61538462, 16.1025641 , 16.58974359, 17.07692308, 17.56410256,\n",
       "       18.05128205, 18.53846154, 19.02564103, 19.51282051, 20.        ])"
      ]
     },
     "execution_count": 163,
     "metadata": {},
     "output_type": "execute_result"
    }
   ],
   "source": [
    "I"
   ]
  },
  {
   "cell_type": "code",
   "execution_count": 164,
   "metadata": {},
   "outputs": [
    {
     "data": {
      "text/plain": [
       "array([1.00000000e+00, 1.38027586e+03, 2.75955172e+03, 4.13882759e+03,\n",
       "       5.51810345e+03, 6.89737931e+03, 8.27665517e+03, 9.65593103e+03,\n",
       "       1.10352069e+04, 1.24144828e+04, 1.37937586e+04, 1.51730345e+04,\n",
       "       1.65523103e+04, 1.79315862e+04, 1.93108621e+04, 2.06901379e+04,\n",
       "       2.20694138e+04, 2.34486897e+04, 2.48279655e+04, 2.62072414e+04,\n",
       "       2.75865172e+04, 2.89657931e+04, 3.03450690e+04, 3.17243448e+04,\n",
       "       3.31036207e+04, 3.44828966e+04, 3.58621724e+04, 3.72414483e+04,\n",
       "       3.86207241e+04, 4.00000000e+04])"
      ]
     },
     "execution_count": 164,
     "metadata": {},
     "output_type": "execute_result"
    }
   ],
   "source": [
    "I_array"
   ]
  },
  {
   "cell_type": "code",
   "execution_count": 162,
   "metadata": {},
   "outputs": [
    {
     "data": {
      "text/plain": [
       "array([0.01259015, 0.01725403, 0.02156438, 0.02561451, 0.02945828,\n",
       "       0.03313081, 0.03665683, 0.04005475, 0.04333878, 0.04652029,\n",
       "       0.04960853, 0.05261124, 0.05553495, 0.05838527, 0.06116707,\n",
       "       0.06388464, 0.06654174, 0.06914174, 0.07168768, 0.07418227,\n",
       "       0.076628  , 0.07902712, 0.08138171, 0.08369366, 0.08596473,\n",
       "       0.08819656, 0.09039064, 0.09254839, 0.09467112, 0.09676006,\n",
       "       0.09881636, 0.10084111, 0.10283534, 0.1048    , 0.10673601,\n",
       "       0.10864423, 0.11052547, 0.11238053, 0.11421013, 0.11601497])"
      ]
     },
     "execution_count": 162,
     "metadata": {},
     "output_type": "execute_result"
    }
   ],
   "source": [
    "tax_func(I, phi0, phi1, phi2)"
   ]
  },
  {
   "cell_type": "code",
   "execution_count": 161,
   "metadata": {},
   "outputs": [
    {
     "name": "stdout",
     "output_type": "stream",
     "text": [
      "[1.00000000e+00 1.38027586e+03 2.75955172e+03 4.13882759e+03\n",
      " 5.51810345e+03 6.89737931e+03 8.27665517e+03 9.65593103e+03\n",
      " 1.10352069e+04 1.24144828e+04 1.37937586e+04 1.51730345e+04\n",
      " 1.65523103e+04 1.79315862e+04 1.93108621e+04 2.06901379e+04\n",
      " 2.20694138e+04 2.34486897e+04 2.48279655e+04 2.62072414e+04\n",
      " 2.75865172e+04 2.89657931e+04 3.03450690e+04 3.17243448e+04\n",
      " 3.31036207e+04 3.44828966e+04 3.58621724e+04 3.72414483e+04\n",
      " 3.86207241e+04 4.00000000e+04]\n",
      "[-0.15       -0.15        0.03240511  0.04430674  0.06427786  0.08497182\n",
      "  0.10143786  0.11491383  0.12916982  0.15089712  0.16949906  0.18471905\n",
      "  0.19740253  0.20813481  0.21733399  0.22530667  0.23228282  0.23843827\n",
      "  0.24390981  0.24880543  0.25321149  0.25719795  0.26082202  0.26413096\n",
      "  0.26716416  0.26995471  0.27253061  0.27491571  0.27713045  0.27919245]\n",
      "[0.01259015 0.44684475 0.46192799 0.4673542  0.47015644 0.47186919\n",
      " 0.47302499 0.47385776 0.47448644 0.47497791 0.47537272 0.47569685\n",
      " 0.47596773 0.47619749 0.47639486 0.47656622 0.4767164  0.47684912\n",
      " 0.47696723 0.47707304 0.47716837 0.4772547  0.47733326 0.47740504\n",
      " 0.47747089 0.47753151 0.47758751 0.47763939 0.47768759 0.47773249]\n"
     ]
    }
   ],
   "source": [
    "\n",
    "data_mms = data_moments(I_array)\n",
    "model_mms = model_moments(I_array, phi0, phi1, phi2)\n",
    "print(I_array)\n",
    "print(data_mms)\n",
    "print(model_mms)"
   ]
  },
  {
   "cell_type": "code",
   "execution_count": 146,
   "metadata": {},
   "outputs": [],
   "source": [
    "def criterion(params, *args):\n",
    "    \n",
    "    phi0, phi1, phi2 = params\n",
    "    I_array, W = args\n",
    "    \n",
    "    err = err_vec(I_array, phi0, phi1, phi2, simple = False)\n",
    "    crit_val = err.T @ W @ err\n",
    "    return crit_val"
   ]
  },
  {
   "cell_type": "code",
   "execution_count": 153,
   "metadata": {},
   "outputs": [
    {
     "name": "stdout",
     "output_type": "stream",
     "text": [
      "      fun: nan\n",
      " hess_inv: <3x3 LbfgsInvHessProduct with dtype=float64>\n",
      "      jac: array([16.45675454,  5.91334586,  0.54864677])\n",
      "  message: b'ABNORMAL_TERMINATION_IN_LNSRCH'\n",
      "     nfev: 84\n",
      "      nit: 0\n",
      "   status: 2\n",
      "  success: False\n",
      "        x: array([0.479, 0.022, 0.817])\n"
     ]
    },
    {
     "name": "stderr",
     "output_type": "stream",
     "text": [
      "/anaconda3/lib/python3.6/site-packages/ipykernel_launcher.py:4: RuntimeWarning: invalid value encountered in double_scalars\n",
      "  after removing the cwd from sys.path.\n"
     ]
    }
   ],
   "source": [
    "# Initial guess of parameters\n",
    "phi0 = 0.479\n",
    "phi1 = 0.022\n",
    "phi2 = 0.817\n",
    "params_init = np.array([phi0, phi1, phi2])\n",
    "\n",
    "# Weighting matrix \n",
    "W_hat = np.eye(30)\n",
    "\n",
    "# Arguments\n",
    "I_array = np.linspace(1, 40000, 30)\n",
    "gmm_args = (I_array, W_hat)\n",
    "\n",
    "# Optimization\n",
    "results_GMM = opt.minimize(criterion, params_init, args = (gmm_args), method = 'L-BFGS-B')\n",
    "\n",
    "print(results_GMM)\n",
    "phi0_GMM, phi1_GMM, phi2_GMM = results_GMM.x"
   ]
  },
  {
   "cell_type": "code",
   "execution_count": 141,
   "metadata": {},
   "outputs": [
    {
     "data": {
      "text/plain": [
       "array([ 1000.        ,  1473.68421053,  1947.36842105,  2421.05263158,\n",
       "        2894.73684211,  3368.42105263,  3842.10526316,  4315.78947368,\n",
       "        4789.47368421,  5263.15789474,  5736.84210526,  6210.52631579,\n",
       "        6684.21052632,  7157.89473684,  7631.57894737,  8105.26315789,\n",
       "        8578.94736842,  9052.63157895,  9526.31578947, 10000.        ])"
      ]
     },
     "execution_count": 141,
     "metadata": {},
     "output_type": "execute_result"
    }
   ],
   "source": [
    "I_array"
   ]
  },
  {
   "cell_type": "code",
   "execution_count": 128,
   "metadata": {},
   "outputs": [
    {
     "data": {
      "image/png": "[encoded data removed]",
      "text/plain": [
       "<Figure size 432x288 with 1 Axes>"
      ]
     },
     "metadata": {},
     "output_type": "display_data"
    }
   ],
   "source": [
    "import matplotlib.pyplot as plt \n",
    "%matplotlib inline\n",
    "I = np.linspace(1,20,40)\n",
    "\n",
    "tax_rate = tax_func(I, phi0_GMM, phi1_GMM, phi3_GMM)\n",
    "plt.xlabel('Income (yen)')\n",
    "plt.ylim(0, 0.4)\n",
    "plt.ylabel('Tax Rate')\n",
    "plt.title('Incomve Vs. Tax Rate (GS)')\n",
    "plt.plot(I, tax_rate, color = 'r', label = r'Estimated Tax Rates')\n",
    "plt.legend(loc='upper right')\n",
    "\n",
    "\n",
    "tax_rate_data = []\n",
    "for i in I:\n",
    "    tax_rate_data.append(calc_income_tax(i, 0, 2018))\n",
    "tax_rate_data = np.array(tax_rate_data)\n",
    "plt.plot(I, tax_rate_data, label = r'Calculated Tax Rates')\n",
    "plt.legend(loc='upper right')\n",
    "\n",
    "plt.show()"
   ]
  },
  {
   "cell_type": "code",
   "execution_count": 127,
   "metadata": {},
   "outputs": [
    {
     "data": {
      "text/plain": [
       "array([ 1000000.        ,  1487179.48717949,  1974358.97435897,\n",
       "        2461538.46153846,  2948717.94871795,  3435897.43589744,\n",
       "        3923076.92307692,  4410256.41025641,  4897435.8974359 ,\n",
       "        5384615.38461538,  5871794.87179487,  6358974.35897436,\n",
       "        6846153.84615385,  7333333.33333333,  7820512.82051282,\n",
       "        8307692.30769231,  8794871.7948718 ,  9282051.28205128,\n",
       "        9769230.76923077, 10256410.25641026, 10743589.74358974,\n",
       "       11230769.23076923, 11717948.71794872, 12205128.2051282 ,\n",
       "       12692307.69230769, 13179487.17948718, 13666666.66666667,\n",
       "       14153846.15384615, 14641025.64102564, 15128205.12820513,\n",
       "       15615384.61538461, 16102564.1025641 , 16589743.58974359,\n",
       "       17076923.07692308, 17564102.56410256, 18051282.05128205,\n",
       "       18538461.53846154, 19025641.02564102, 19512820.51282051,\n",
       "       20000000.        ])"
      ]
     },
     "execution_count": 127,
     "metadata": {},
     "output_type": "execute_result"
    }
   ],
   "source": [
    "I"
   ]
  },
  {
   "cell_type": "code",
   "execution_count": 107,
   "metadata": {},
   "outputs": [
    {
     "data": {
      "text/plain": [
       "array([-9.36750677e-15, -3.70536934e-15, -1.91513472e-15, -1.13797860e-15,\n",
       "       -7.49400542e-16, -5.27355937e-16, -3.88578059e-16, -2.91433544e-16,\n",
       "       -2.35922393e-16, -1.80411242e-16, -1.52655666e-16, -1.24900090e-16,\n",
       "       -1.11022302e-16, -9.71445147e-17, -6.93889390e-17, -6.93889390e-17,\n",
       "       -5.55111512e-17, -5.55111512e-17, -5.55111512e-17, -4.16333634e-17,\n",
       "       -2.77555756e-17, -2.77555756e-17, -2.77555756e-17, -2.77555756e-17,\n",
       "       -2.77555756e-17, -2.77555756e-17, -2.77555756e-17, -1.38777878e-17,\n",
       "       -1.38777878e-17, -1.38777878e-17, -1.38777878e-17, -1.38777878e-17,\n",
       "       -1.38777878e-17, -1.38777878e-17, -1.38777878e-17, -1.38777878e-17,\n",
       "       -1.38777878e-17, -1.38777878e-17, -1.38777878e-17, -1.38777878e-17])"
      ]
     },
     "execution_count": 107,
     "metadata": {},
     "output_type": "execute_result"
    }
   ],
   "source": [
    "tax_rate = tax_func(I, phi0_GMM, phi1_GMM, phi2_GMM)\n",
    "tax_rate"
   ]
  },
  {
   "cell_type": "code",
   "execution_count": 94,
   "metadata": {},
   "outputs": [
    {
     "data": {
      "text/plain": [
       "array([0.0178675 , 0.02873763, 0.03108083, 0.03200197, 0.03261873,\n",
       "       0.0371484 , 0.04225138, 0.04660687, 0.05172087, 0.06182155,\n",
       "       0.07024614, 0.07737986, 0.0842325 , 0.0908458 , 0.09663514,\n",
       "       0.10174549, 0.10628967, 0.11102952, 0.11603223, 0.12114675,\n",
       "       0.12630184, 0.13128941, 0.13983902, 0.1477061 , 0.15496924,\n",
       "       0.16169541, 0.16794205, 0.17375866, 0.17918818, 0.184268  ,\n",
       "       0.18903086, 0.19350551, 0.19771736, 0.20168889, 0.20544011,\n",
       "       0.20898884, 0.21235105, 0.21554108, 0.21857182, 0.2214549 ])"
      ]
     },
     "execution_count": 94,
     "metadata": {},
     "output_type": "execute_result"
    }
   ],
   "source": [
    "tax_rate_data = []\n",
    "for i in I:\n",
    "    tax_rate_data.append(calc_income_tax(i, 0, 2018))\n",
    "tax_rate_data = np.array(tax_rate_data)\n",
    "tax_rate_data"
   ]
  },
  {
   "cell_type": "code",
   "execution_count": 95,
   "metadata": {},
   "outputs": [
    {
     "data": {
      "text/plain": [
       "array([ 1000000.        ,  1487179.48717949,  1974358.97435897,\n",
       "        2461538.46153846,  2948717.94871795,  3435897.43589744,\n",
       "        3923076.92307692,  4410256.41025641,  4897435.8974359 ,\n",
       "        5384615.38461538,  5871794.87179487,  6358974.35897436,\n",
       "        6846153.84615385,  7333333.33333333,  7820512.82051282,\n",
       "        8307692.30769231,  8794871.7948718 ,  9282051.28205128,\n",
       "        9769230.76923077, 10256410.25641026, 10743589.74358974,\n",
       "       11230769.23076923, 11717948.71794872, 12205128.2051282 ,\n",
       "       12692307.69230769, 13179487.17948718, 13666666.66666667,\n",
       "       14153846.15384615, 14641025.64102564, 15128205.12820513,\n",
       "       15615384.61538461, 16102564.1025641 , 16589743.58974359,\n",
       "       17076923.07692308, 17564102.56410256, 18051282.05128205,\n",
       "       18538461.53846154, 19025641.02564102, 19512820.51282051,\n",
       "       20000000.        ])"
      ]
     },
     "execution_count": 95,
     "metadata": {},
     "output_type": "execute_result"
    }
   ],
   "source": [
    "I"
   ]
  },
  {
   "cell_type": "code",
   "execution_count": 101,
   "metadata": {},
   "outputs": [
    {
     "data": {
      "text/plain": [
       "<matplotlib.legend.Legend at 0x1a28c905f8>"
      ]
     },
     "execution_count": 101,
     "metadata": {},
     "output_type": "execute_result"
    },
    {
     "data": {
      "image/png": "[encoded data removed]",
      "text/plain": [
       "<Figure size 432x288 with 1 Axes>"
      ]
     },
     "metadata": {},
     "output_type": "display_data"
    }
   ],
   "source": [
    "tax_rate_data = []\n",
    "for i in I:\n",
    "    tax_rate_data.append(calc_income_tax(i, 0, 2018))\n",
    "tax_rate_data = np.array(tax_rate_data)\n",
    "plt.plot(I, tax_rate_data, label = r'Calculated Tax Rates')\n",
    "plt.legend(loc='upper right')"
   ]
  },
  {
   "cell_type": "code",
   "execution_count": 102,
   "metadata": {},
   "outputs": [
    {
     "data": {
      "text/plain": [
       "<matplotlib.legend.Legend at 0x1a289ba3c8>"
      ]
     },
     "execution_count": 102,
     "metadata": {},
     "output_type": "execute_result"
    },
    {
     "data": {
      "image/png": "[encoded data removed]",
      "text/plain": [
       "<Figure size 432x288 with 1 Axes>"
      ]
     },
     "metadata": {},
     "output_type": "display_data"
    }
   ],
   "source": [
    "tax_rate = tax_func(I, phi0_GMM, phi1_GMM, phi3_GMM)\n",
    "plt.xlabel('Income (yen)')\n",
    "plt.ylim(0, 0.4)\n",
    "plt.ylabel('Tax Rate')\n",
    "plt.title('Incomve Vs. Tax Rate (GS)')\n",
    "plt.plot(I, tax_rate, color = 'r', label = r'Estimated Tax Rates')\n",
    "plt.legend(loc='upper right')"
   ]
  },
  {
   "cell_type": "code",
   "execution_count": 103,
   "metadata": {},
   "outputs": [
    {
     "data": {
      "text/plain": [
       "array([-9.36750677e-15, -3.70536934e-15, -1.91513472e-15, -1.13797860e-15,\n",
       "       -7.49400542e-16, -5.27355937e-16, -3.88578059e-16, -2.91433544e-16,\n",
       "       -2.35922393e-16, -1.80411242e-16, -1.52655666e-16, -1.24900090e-16,\n",
       "       -1.11022302e-16, -9.71445147e-17, -6.93889390e-17, -6.93889390e-17,\n",
       "       -5.55111512e-17, -5.55111512e-17, -5.55111512e-17, -4.16333634e-17,\n",
       "       -2.77555756e-17, -2.77555756e-17, -2.77555756e-17, -2.77555756e-17,\n",
       "       -2.77555756e-17, -2.77555756e-17, -2.77555756e-17, -1.38777878e-17,\n",
       "       -1.38777878e-17, -1.38777878e-17, -1.38777878e-17, -1.38777878e-17,\n",
       "       -1.38777878e-17, -1.38777878e-17, -1.38777878e-17, -1.38777878e-17,\n",
       "       -1.38777878e-17, -1.38777878e-17, -1.38777878e-17, -1.38777878e-17])"
      ]
     },
     "execution_count": 103,
     "metadata": {},
     "output_type": "execute_result"
    }
   ],
   "source": [
    "tax_rate"
   ]
  },
  {
   "cell_type": "code",
   "execution_count": 90,
   "metadata": {},
   "outputs": [],
   "source": [
    "def chi_n_func(s, a0, a1, a2, a3, a4):\n",
    "    chi_n = a0 + a1*s + a2*s**2 + a3*s**3 + a4 * s**4\n",
    "    return chi_n"
   ]
  },
  {
   "cell_type": "code",
   "execution_count": 91,
   "metadata": {},
   "outputs": [
    {
     "data": {
      "text/plain": [
       "array([ 15, 129, 547])"
      ]
     },
     "execution_count": 91,
     "metadata": {},
     "output_type": "execute_result"
    }
   ],
   "source": [
    "s = np.array([1,2,3])\n",
    "chi_n_func(s, 1,2,3,4, 5)"
   ]
  },
  {
   "cell_type": "code",
   "execution_count": null,
   "metadata": {},
   "outputs": [],
   "source": []
  }
 ],
 "metadata": {
  "kernelspec": {
   "display_name": "Python 3",
   "language": "python",
   "name": "python3"
  },
  "language_info": {
   "codemirror_mode": {
    "name": "ipython",
    "version": 3
   },
   "file_extension": ".py",
   "mimetype": "text/x-python",
   "name": "python",
   "nbconvert_exporter": "python",
   "pygments_lexer": "ipython3",
   "version": "3.6.5"
  }
 },
 "nbformat": 4,
 "nbformat_minor": 2
}
