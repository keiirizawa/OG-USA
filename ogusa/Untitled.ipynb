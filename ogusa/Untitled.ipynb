{
 "cells": [
  {
   "cell_type": "code",
   "execution_count": 2,
   "metadata": {},
   "outputs": [
    {
     "ename": "ModuleNotFoundError",
     "evalue": "No module named 'ogusa'",
     "output_type": "error",
     "traceback": [
      "\u001b[0;31m---------------------------------------------------------------------------\u001b[0m",
      "\u001b[0;31mModuleNotFoundError\u001b[0m                       Traceback (most recent call last)",
      "\u001b[0;32m<ipython-input-2-d5d055da9e2a>\u001b[0m in \u001b[0;36m<module>\u001b[0;34m()\u001b[0m\n\u001b[1;32m     39\u001b[0m \u001b[0;32mfrom\u001b[0m \u001b[0mmatplotlib\u001b[0m\u001b[0;34m.\u001b[0m\u001b[0mticker\u001b[0m \u001b[0;32mimport\u001b[0m \u001b[0mMultipleLocator\u001b[0m\u001b[0;34m,\u001b[0m \u001b[0mFormatStrFormatter\u001b[0m\u001b[0;34m\u001b[0m\u001b[0m\n\u001b[1;32m     40\u001b[0m \u001b[0;32mfrom\u001b[0m \u001b[0mmpl_toolkits\u001b[0m\u001b[0;34m.\u001b[0m\u001b[0mmplot3d\u001b[0m \u001b[0;32mimport\u001b[0m \u001b[0mAxes3D\u001b[0m\u001b[0;34m\u001b[0m\u001b[0m\n\u001b[0;32m---> 41\u001b[0;31m \u001b[0;32mfrom\u001b[0m \u001b[0mogusa\u001b[0m \u001b[0;32mimport\u001b[0m \u001b[0mget_micro_data\u001b[0m\u001b[0;34m\u001b[0m\u001b[0m\n\u001b[0m\u001b[1;32m     42\u001b[0m \u001b[0;32mfrom\u001b[0m \u001b[0mogusa\u001b[0m\u001b[0;34m.\u001b[0m\u001b[0mutils\u001b[0m \u001b[0;32mimport\u001b[0m \u001b[0mDEFAULT_START_YEAR\u001b[0m\u001b[0;34m\u001b[0m\u001b[0m\n\u001b[1;32m     43\u001b[0m \u001b[0;34m\u001b[0m\u001b[0m\n",
      "\u001b[0;31mModuleNotFoundError\u001b[0m: No module named 'ogusa'"
     ]
    }
   ],
   "source": [
    "'''\n",
    "------------------------------------------------------------------------\n",
    "This script reads in data generated from the OSPC Tax Calculator and\n",
    "the 2009 IRS PUF. It then estimates tax functions tau_{s,t}(x,y), where\n",
    "tau_{s,t} is the effective tax rate, marginal tax rate on labor income,\n",
    "or the marginal tax rate on capital income, for a given age (s) in a\n",
    "particular year (t). x is total labor income, and y is total capital\n",
    "income.\n",
    "\n",
    "This module defines the following functions:\n",
    "    get_tax_rates()\n",
    "    wsumsq()\n",
    "    find_outliers()\n",
    "    replace_outliers()\n",
    "\n",
    "    tax_func_estimate()\n",
    "    get_tax_func_estimate()\n",
    "\n",
    "This Python script calls the following modules:\n",
    "    get_micro_data.py\n",
    "    utils.py\n",
    "\n",
    "This Python script outputs the following:\n",
    "    ./TAX_ESTIMATE_PATH/TxFuncEst_baseline{}.pkl\n",
    "    ./TAX_ESTIMATE_PATH/TxFuncEst_policy{}.pkl\n",
    "------------------------------------------------------------------------\n",
    "'''\n",
    "# Import packages\n",
    "import time\n",
    "import os\n",
    "import numpy as np\n",
    "import scipy.optimize as opt\n",
    "from dask.distributed import Client\n",
    "from dask import compute, delayed\n",
    "import dask.multiprocessing\n",
    "import pickle\n",
    "import matplotlib\n",
    "import matplotlib.pyplot as plt\n",
    "from matplotlib.ticker import MultipleLocator, FormatStrFormatter\n",
    "from mpl_toolkits.mplot3d import Axes3D\n",
    "from ogusa import get_micro_data\n",
    "from ogusa.utils import DEFAULT_START_YEAR\n",
    "\n",
    "TAX_ESTIMATE_PATH = os.environ.get(\"TAX_ESTIMATE_PATH\", \".\")"
   ]
  },
  {
   "cell_type": "code",
   "execution_count": null,
   "metadata": {},
   "outputs": [],
   "source": []
  }
 ],
 "metadata": {
  "kernelspec": {
   "display_name": "Python 3",
   "language": "python",
   "name": "python3"
  },
  "language_info": {
   "codemirror_mode": {
    "name": "ipython",
    "version": 3
   },
   "file_extension": ".py",
   "mimetype": "text/x-python",
   "name": "python",
   "nbconvert_exporter": "python",
   "pygments_lexer": "ipython3",
   "version": "3.6.5"
  }
 },
 "nbformat": 4,
 "nbformat_minor": 2
}
